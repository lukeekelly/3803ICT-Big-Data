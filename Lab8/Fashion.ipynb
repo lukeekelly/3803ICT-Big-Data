{
  "cells": [
    {
      "cell_type": "markdown",
      "metadata": {
        "id": "view-in-github",
        "colab_type": "text"
      },
      "source": [
        "<a href=\"https://colab.research.google.com/github/lukeekelly/3803ICT-Big-Data/blob/main/Fashion.ipynb\" target=\"_parent\"><img src=\"https://colab.research.google.com/assets/colab-badge.svg\" alt=\"Open In Colab\"/></a>"
      ]
    },
    {
      "cell_type": "markdown",
      "metadata": {
        "id": "7cJN2GLgGqfD"
      },
      "source": [
        "# Image Classification by MLP - Fashion MNIST"
      ]
    },
    {
      "cell_type": "markdown",
      "metadata": {
        "id": "GC6CBcbxGqfH"
      },
      "source": [
        "In this exercise, we will try to use a neural network on a simple classification task: classifying images of clothes into 10 classes."
      ]
    },
    {
      "cell_type": "markdown",
      "metadata": {
        "id": "lwsrQa7CGqfI"
      },
      "source": [
        "We will first download the data:"
      ]
    },
    {
      "cell_type": "code",
      "execution_count": 2,
      "metadata": {
        "scrolled": true,
        "colab": {
          "base_uri": "https://localhost:8080/"
        },
        "id": "Zt2GUoJ7GqfI",
        "outputId": "7911700a-ffdc-4178-8080-4351054f0d3d"
      },
      "outputs": [
        {
          "output_type": "stream",
          "name": "stdout",
          "text": [
            "Downloading data from https://storage.googleapis.com/tensorflow/tf-keras-datasets/train-labels-idx1-ubyte.gz\n",
            "32768/29515 [=================================] - 0s 0us/step\n",
            "40960/29515 [=========================================] - 0s 0us/step\n",
            "Downloading data from https://storage.googleapis.com/tensorflow/tf-keras-datasets/train-images-idx3-ubyte.gz\n",
            "26427392/26421880 [==============================] - 0s 0us/step\n",
            "26435584/26421880 [==============================] - 0s 0us/step\n",
            "Downloading data from https://storage.googleapis.com/tensorflow/tf-keras-datasets/t10k-labels-idx1-ubyte.gz\n",
            "16384/5148 [===============================================================================================] - 0s 0us/step\n",
            "Downloading data from https://storage.googleapis.com/tensorflow/tf-keras-datasets/t10k-images-idx3-ubyte.gz\n",
            "4423680/4422102 [==============================] - 0s 0us/step\n",
            "4431872/4422102 [==============================] - 0s 0us/step\n"
          ]
        },
        {
          "output_type": "execute_result",
          "data": {
            "text/plain": [
              "(60000, 28, 28)"
            ]
          },
          "metadata": {},
          "execution_count": 2
        }
      ],
      "source": [
        "from tensorflow.keras.datasets import fashion_mnist\n",
        "\n",
        "#TODO: load dataset\n",
        "(X_train, y_train), (X_test, y_test) = fashion_mnist.load_data()\n",
        "\n",
        "#TODO: Resample the dataset if needed\n",
        "# X_train = ...\n",
        "# y_train = ...\n",
        "# X_test = ...\n",
        "# y_test = ...\n",
        "\n",
        "X_train.shape"
      ]
    },
    {
      "cell_type": "markdown",
      "metadata": {
        "id": "RcduSMMsGqfK"
      },
      "source": [
        "This dataset contains 10 classes:\n",
        "* 0:\tT-shirt/top\n",
        "* 1:\tTrouser\n",
        "* 2:\tPullover\n",
        "* 3:\tDress\n",
        "* 4:\tCoat\n",
        "* 5:\tSandal\n",
        "* 6:\tShirt\n",
        "* 7:\tSneaker\n",
        "* 8:\tBag\n",
        "* 9:\tAnkle boot"
      ]
    },
    {
      "cell_type": "markdown",
      "metadata": {
        "id": "ekhe3qQFGqfK"
      },
      "source": [
        "Now begin by exploring the data. Try to display some images with the associated label."
      ]
    },
    {
      "cell_type": "code",
      "execution_count": 3,
      "metadata": {
        "scrolled": true,
        "colab": {
          "base_uri": "https://localhost:8080/",
          "height": 281
        },
        "id": "0wtD3qYJGqfL",
        "outputId": "40a2c69f-fc0f-4039-bff8-0888fa4cf112"
      },
      "outputs": [
        {
          "output_type": "display_data",
          "data": {
            "text/plain": [
              "<Figure size 432x288 with 1 Axes>"
            ],
            "image/png": "[encoded data removed]"
          },
          "metadata": {
            "needs_background": "light"
          }
        }
      ],
      "source": [
        "# TODO: Explore the data, display some input images\n",
        "%matplotlib inline\n",
        "import matplotlib.pyplot as plt\n",
        "import numpy as np\n",
        "\n",
        "label_class = ['top', 'trouser', 'pullover', 'dress', 'coat', 'sandal', 'shirt', 'sneaker', 'bag', 'ankle boot']\n",
        "\n",
        "# np.random.seed(0)\n",
        "idx = np.random.randint(X_train.shape[0])\n",
        "\n",
        "plt.imshow(X_train[idx], cmap = \"gray_r\")\n",
        "plt.title(label_class[y_train[idx]])\n",
        "plt.show()"
      ]
    },
    {
      "cell_type": "markdown",
      "metadata": {
        "id": "6XwuiiV1GqfM"
      },
      "source": [
        "**Before going further**: what methods could you use to perform such a classification task?"
      ]
    },
    {
      "cell_type": "markdown",
      "metadata": {
        "id": "yX8F5hmiGqfM"
      },
      "source": [
        "---"
      ]
    },
    {
      "cell_type": "markdown",
      "metadata": {
        "id": "Dy1dP5y7GqfN"
      },
      "source": [
        "The first method you will try is using neural networks. First step is the data preparation: data rescaling, label preparation.\n",
        "\n",
        "Hint: you can use the Keras function `to_categorical`"
      ]
    },
    {
      "cell_type": "code",
      "execution_count": 4,
      "metadata": {
        "id": "GUMSMLgJGqfN"
      },
      "outputs": [],
      "source": [
        "# TODO: Make the data preparation\n",
        "from tensorflow.keras.utils import to_categorical\n",
        "\n",
        "y_train_cat = to_categorical(y_train, num_classes = 10)\n",
        "y_test_cat = to_categorical(y_test, num_classes = 10)\n",
        "\n",
        "X_train_norm = X_train/255\n",
        "X_test_norm = X_test/255\n",
        "\n",
        "# TODO: reshape the image data (2D array) into input 1D array for a neural network\n",
        "X_train_norm = X_train_norm.reshape(X_train.shape[0], np.prod(X_train_norm.shape[1:]))\n",
        "X_test_norm = X_test_norm.reshape(X_test.shape[0], np.prod(X_test_norm.shape[1:]))"
      ]
    },
    {
      "cell_type": "markdown",
      "metadata": {
        "id": "pvg1iM5EGqfO"
      },
      "source": [
        "Next step: model building with Keras. Build your neural network architecture. At first, I would recommend a light architecture: no more than 2 hidden layers, with about 10 units per layer. Put that model into a function, so that you can reuse it later."
      ]
    },
    {
      "cell_type": "code",
      "execution_count": 6,
      "metadata": {
        "colab": {
          "base_uri": "https://localhost:8080/"
        },
        "id": "wKM3yyAuGqfO",
        "outputId": "19b9d9ab-19f6-4723-a835-01833cc58a30"
      },
      "outputs": [
        {
          "output_type": "stream",
          "name": "stdout",
          "text": [
            "Model: \"sequential\"\n",
            "_________________________________________________________________\n",
            " Layer (type)                Output Shape              Param #   \n",
            "=================================================================\n",
            " dense (Dense)               (None, 10)                7850      \n",
            "                                                                 \n",
            " dense_1 (Dense)             (None, 10)                110       \n",
            "                                                                 \n",
            " dense_2 (Dense)             (None, 10)                110       \n",
            "                                                                 \n",
            "=================================================================\n",
            "Total params: 8,070\n",
            "Trainable params: 8,070\n",
            "Non-trainable params: 0\n",
            "_________________________________________________________________\n"
          ]
        }
      ],
      "source": [
        "# TODO: Build your model\n",
        "from tensorflow.keras.models import Sequential\n",
        "from tensorflow.keras.layers import Dense\n",
        "\n",
        "def my_model(input_dim):\n",
        "    # Create the Sequential object\n",
        "    model = Sequential()\n",
        "\n",
        "    # Add 2 dense layers with 10 neurons each using sigmoid or relu activation\n",
        "    model.add(Dense(10, input_dim = input_dim, activation = \"sigmoid\"))\n",
        "    model.add(Dense(10, activation = \"sigmoid\"))\n",
        "    \n",
        "    # Add the output layer with one unit: the predicted result\n",
        "    model.add(Dense(10, activation='softmax'))\n",
        "    \n",
        "    return model\n",
        "\n",
        "my_model(X_train_norm.shape[1]).summary()"
      ]
    },
    {
      "cell_type": "markdown",
      "metadata": {
        "id": "JOmcycGiGqfO"
      },
      "source": [
        "Now compile and fit your model on your training data. Since this is a multiclass classification, the loss is not `binary_crossentropy` anymore, but `categorical_crossentropy`."
      ]
    },
    {
      "cell_type": "code",
      "execution_count": 7,
      "metadata": {
        "scrolled": true,
        "colab": {
          "base_uri": "https://localhost:8080/"
        },
        "id": "NYLI1lqaGqfP",
        "outputId": "5abb49ef-b5ef-4fe4-9b80-27d9e18606de"
      },
      "outputs": [
        {
          "output_type": "stream",
          "name": "stdout",
          "text": [
            "Epoch 1/100\n",
            "469/469 [==============================] - 2s 3ms/step - loss: 1.9030 - accuracy: 0.4415\n",
            "Epoch 2/100\n",
            "469/469 [==============================] - 1s 3ms/step - loss: 1.2939 - accuracy: 0.6906\n",
            "Epoch 3/100\n",
            "469/469 [==============================] - 1s 3ms/step - loss: 0.9470 - accuracy: 0.7180\n",
            "Epoch 4/100\n",
            "469/469 [==============================] - 1s 3ms/step - loss: 0.7630 - accuracy: 0.7454\n",
            "Epoch 5/100\n",
            "469/469 [==============================] - 1s 2ms/step - loss: 0.6699 - accuracy: 0.7688\n",
            "Epoch 6/100\n",
            "469/469 [==============================] - 1s 3ms/step - loss: 0.6082 - accuracy: 0.7962\n",
            "Epoch 7/100\n",
            "469/469 [==============================] - 1s 2ms/step - loss: 0.5523 - accuracy: 0.8213\n",
            "Epoch 8/100\n",
            "469/469 [==============================] - 1s 3ms/step - loss: 0.5095 - accuracy: 0.8339\n",
            "Epoch 9/100\n",
            "469/469 [==============================] - 1s 2ms/step - loss: 0.4786 - accuracy: 0.8404\n",
            "Epoch 10/100\n",
            "469/469 [==============================] - 1s 3ms/step - loss: 0.4588 - accuracy: 0.8455\n",
            "Epoch 11/100\n",
            "469/469 [==============================] - 1s 3ms/step - loss: 0.4437 - accuracy: 0.8479\n",
            "Epoch 12/100\n",
            "469/469 [==============================] - 1s 3ms/step - loss: 0.4329 - accuracy: 0.8511\n",
            "Epoch 13/100\n",
            "469/469 [==============================] - 1s 3ms/step - loss: 0.4235 - accuracy: 0.8533\n",
            "Epoch 14/100\n",
            "469/469 [==============================] - 1s 2ms/step - loss: 0.4156 - accuracy: 0.8551\n",
            "Epoch 15/100\n",
            "469/469 [==============================] - 1s 2ms/step - loss: 0.4091 - accuracy: 0.8568\n",
            "Epoch 16/100\n",
            "469/469 [==============================] - 1s 3ms/step - loss: 0.4032 - accuracy: 0.8588\n",
            "Epoch 17/100\n",
            "469/469 [==============================] - 1s 3ms/step - loss: 0.3987 - accuracy: 0.8590\n",
            "Epoch 18/100\n",
            "469/469 [==============================] - 2s 3ms/step - loss: 0.3949 - accuracy: 0.8600\n",
            "Epoch 19/100\n",
            "469/469 [==============================] - 1s 3ms/step - loss: 0.3902 - accuracy: 0.8607\n",
            "Epoch 20/100\n",
            "469/469 [==============================] - 1s 3ms/step - loss: 0.3858 - accuracy: 0.8632\n",
            "Epoch 21/100\n",
            "469/469 [==============================] - 1s 3ms/step - loss: 0.3834 - accuracy: 0.8634\n",
            "Epoch 22/100\n",
            "469/469 [==============================] - 1s 3ms/step - loss: 0.3805 - accuracy: 0.8643\n",
            "Epoch 23/100\n",
            "469/469 [==============================] - 1s 3ms/step - loss: 0.3773 - accuracy: 0.8648\n",
            "Epoch 24/100\n",
            "469/469 [==============================] - 1s 3ms/step - loss: 0.3751 - accuracy: 0.8657\n",
            "Epoch 25/100\n",
            "469/469 [==============================] - 1s 3ms/step - loss: 0.3727 - accuracy: 0.8663\n",
            "Epoch 26/100\n",
            "469/469 [==============================] - 1s 3ms/step - loss: 0.3697 - accuracy: 0.8681\n",
            "Epoch 27/100\n",
            "469/469 [==============================] - 1s 3ms/step - loss: 0.3681 - accuracy: 0.8682\n",
            "Epoch 28/100\n",
            "469/469 [==============================] - 1s 3ms/step - loss: 0.3661 - accuracy: 0.8688\n",
            "Epoch 29/100\n",
            "469/469 [==============================] - 1s 3ms/step - loss: 0.3638 - accuracy: 0.8694\n",
            "Epoch 30/100\n",
            "469/469 [==============================] - 1s 3ms/step - loss: 0.3609 - accuracy: 0.8703\n",
            "Epoch 31/100\n",
            "469/469 [==============================] - 1s 3ms/step - loss: 0.3603 - accuracy: 0.8703\n",
            "Epoch 32/100\n",
            "469/469 [==============================] - 1s 3ms/step - loss: 0.3582 - accuracy: 0.8713\n",
            "Epoch 33/100\n",
            "469/469 [==============================] - 1s 3ms/step - loss: 0.3565 - accuracy: 0.8722\n",
            "Epoch 34/100\n",
            "469/469 [==============================] - 1s 3ms/step - loss: 0.3548 - accuracy: 0.8723\n",
            "Epoch 35/100\n",
            "469/469 [==============================] - 1s 3ms/step - loss: 0.3535 - accuracy: 0.8735\n",
            "Epoch 36/100\n",
            "469/469 [==============================] - 1s 3ms/step - loss: 0.3516 - accuracy: 0.8740\n",
            "Epoch 37/100\n",
            "469/469 [==============================] - 1s 3ms/step - loss: 0.3512 - accuracy: 0.8744\n",
            "Epoch 38/100\n",
            "469/469 [==============================] - 1s 2ms/step - loss: 0.3494 - accuracy: 0.8747\n",
            "Epoch 39/100\n",
            "469/469 [==============================] - 1s 3ms/step - loss: 0.3479 - accuracy: 0.8756\n",
            "Epoch 40/100\n",
            "469/469 [==============================] - 1s 3ms/step - loss: 0.3461 - accuracy: 0.8761\n",
            "Epoch 41/100\n",
            "469/469 [==============================] - 1s 3ms/step - loss: 0.3443 - accuracy: 0.8766\n",
            "Epoch 42/100\n",
            "469/469 [==============================] - 1s 3ms/step - loss: 0.3435 - accuracy: 0.8776\n",
            "Epoch 43/100\n",
            "469/469 [==============================] - 1s 3ms/step - loss: 0.3418 - accuracy: 0.8772\n",
            "Epoch 44/100\n",
            "469/469 [==============================] - 1s 3ms/step - loss: 0.3421 - accuracy: 0.8775\n",
            "Epoch 45/100\n",
            "469/469 [==============================] - 1s 3ms/step - loss: 0.3406 - accuracy: 0.8783\n",
            "Epoch 46/100\n",
            "469/469 [==============================] - 1s 3ms/step - loss: 0.3393 - accuracy: 0.8784\n",
            "Epoch 47/100\n",
            "469/469 [==============================] - 1s 3ms/step - loss: 0.3384 - accuracy: 0.8790\n",
            "Epoch 48/100\n",
            "469/469 [==============================] - 1s 3ms/step - loss: 0.3379 - accuracy: 0.8791\n",
            "Epoch 49/100\n",
            "469/469 [==============================] - 1s 3ms/step - loss: 0.3367 - accuracy: 0.8797\n",
            "Epoch 50/100\n",
            "469/469 [==============================] - 1s 3ms/step - loss: 0.3353 - accuracy: 0.8798\n",
            "Epoch 51/100\n",
            "469/469 [==============================] - 1s 3ms/step - loss: 0.3348 - accuracy: 0.8804\n",
            "Epoch 52/100\n",
            "469/469 [==============================] - 1s 3ms/step - loss: 0.3327 - accuracy: 0.8817\n",
            "Epoch 53/100\n",
            "469/469 [==============================] - 1s 3ms/step - loss: 0.3319 - accuracy: 0.8812\n",
            "Epoch 54/100\n",
            "469/469 [==============================] - 1s 3ms/step - loss: 0.3315 - accuracy: 0.8811\n",
            "Epoch 55/100\n",
            "469/469 [==============================] - 1s 3ms/step - loss: 0.3306 - accuracy: 0.8815\n",
            "Epoch 56/100\n",
            "469/469 [==============================] - 1s 3ms/step - loss: 0.3299 - accuracy: 0.8826\n",
            "Epoch 57/100\n",
            "469/469 [==============================] - 1s 3ms/step - loss: 0.3297 - accuracy: 0.8824\n",
            "Epoch 58/100\n",
            "469/469 [==============================] - 1s 3ms/step - loss: 0.3281 - accuracy: 0.8826\n",
            "Epoch 59/100\n",
            "469/469 [==============================] - 1s 3ms/step - loss: 0.3276 - accuracy: 0.8830\n",
            "Epoch 60/100\n",
            "469/469 [==============================] - 1s 3ms/step - loss: 0.3267 - accuracy: 0.8833\n",
            "Epoch 61/100\n",
            "469/469 [==============================] - 1s 3ms/step - loss: 0.3269 - accuracy: 0.8836\n",
            "Epoch 62/100\n",
            "469/469 [==============================] - 1s 3ms/step - loss: 0.3254 - accuracy: 0.8838\n",
            "Epoch 63/100\n",
            "469/469 [==============================] - 1s 3ms/step - loss: 0.3236 - accuracy: 0.8843\n",
            "Epoch 64/100\n",
            "469/469 [==============================] - 1s 3ms/step - loss: 0.3229 - accuracy: 0.8849\n",
            "Epoch 65/100\n",
            "469/469 [==============================] - 1s 3ms/step - loss: 0.3234 - accuracy: 0.8845\n",
            "Epoch 66/100\n",
            "469/469 [==============================] - 1s 3ms/step - loss: 0.3223 - accuracy: 0.8849\n",
            "Epoch 67/100\n",
            "469/469 [==============================] - 1s 3ms/step - loss: 0.3211 - accuracy: 0.8854\n",
            "Epoch 68/100\n",
            "469/469 [==============================] - 1s 3ms/step - loss: 0.3211 - accuracy: 0.8853\n",
            "Epoch 69/100\n",
            "469/469 [==============================] - 1s 3ms/step - loss: 0.3208 - accuracy: 0.8848\n",
            "Epoch 70/100\n",
            "469/469 [==============================] - 1s 3ms/step - loss: 0.3196 - accuracy: 0.8857\n",
            "Epoch 71/100\n",
            "469/469 [==============================] - 1s 3ms/step - loss: 0.3190 - accuracy: 0.8867\n",
            "Epoch 72/100\n",
            "469/469 [==============================] - 1s 3ms/step - loss: 0.3189 - accuracy: 0.8857\n",
            "Epoch 73/100\n",
            "469/469 [==============================] - 1s 3ms/step - loss: 0.3188 - accuracy: 0.8860\n",
            "Epoch 74/100\n",
            "469/469 [==============================] - 1s 3ms/step - loss: 0.3169 - accuracy: 0.8868\n",
            "Epoch 75/100\n",
            "469/469 [==============================] - 1s 3ms/step - loss: 0.3169 - accuracy: 0.8869\n",
            "Epoch 76/100\n",
            "469/469 [==============================] - 1s 3ms/step - loss: 0.3163 - accuracy: 0.8862\n",
            "Epoch 77/100\n",
            "469/469 [==============================] - 1s 3ms/step - loss: 0.3167 - accuracy: 0.8864\n",
            "Epoch 78/100\n",
            "469/469 [==============================] - 1s 3ms/step - loss: 0.3144 - accuracy: 0.8874\n",
            "Epoch 79/100\n",
            "469/469 [==============================] - 1s 3ms/step - loss: 0.3144 - accuracy: 0.8873\n",
            "Epoch 80/100\n",
            "469/469 [==============================] - 1s 3ms/step - loss: 0.3141 - accuracy: 0.8881\n",
            "Epoch 81/100\n",
            "469/469 [==============================] - 1s 3ms/step - loss: 0.3143 - accuracy: 0.8878\n",
            "Epoch 82/100\n",
            "469/469 [==============================] - 1s 3ms/step - loss: 0.3126 - accuracy: 0.8882\n",
            "Epoch 83/100\n",
            "469/469 [==============================] - 1s 3ms/step - loss: 0.3124 - accuracy: 0.8884\n",
            "Epoch 84/100\n",
            "469/469 [==============================] - 1s 3ms/step - loss: 0.3124 - accuracy: 0.8888\n",
            "Epoch 85/100\n",
            "469/469 [==============================] - 1s 3ms/step - loss: 0.3114 - accuracy: 0.8884\n",
            "Epoch 86/100\n",
            "469/469 [==============================] - 1s 2ms/step - loss: 0.3117 - accuracy: 0.8884\n",
            "Epoch 87/100\n",
            "469/469 [==============================] - 1s 3ms/step - loss: 0.3102 - accuracy: 0.8893\n",
            "Epoch 88/100\n",
            "469/469 [==============================] - 1s 3ms/step - loss: 0.3107 - accuracy: 0.8885\n",
            "Epoch 89/100\n",
            "469/469 [==============================] - 1s 3ms/step - loss: 0.3099 - accuracy: 0.8905\n",
            "Epoch 90/100\n",
            "469/469 [==============================] - 1s 3ms/step - loss: 0.3082 - accuracy: 0.8901\n",
            "Epoch 91/100\n",
            "469/469 [==============================] - 1s 3ms/step - loss: 0.3094 - accuracy: 0.8893\n",
            "Epoch 92/100\n",
            "469/469 [==============================] - 1s 3ms/step - loss: 0.3087 - accuracy: 0.8889\n",
            "Epoch 93/100\n",
            "469/469 [==============================] - 1s 3ms/step - loss: 0.3090 - accuracy: 0.8897\n",
            "Epoch 94/100\n",
            "469/469 [==============================] - 1s 3ms/step - loss: 0.3087 - accuracy: 0.8889\n",
            "Epoch 95/100\n",
            "469/469 [==============================] - 1s 3ms/step - loss: 0.3080 - accuracy: 0.8899\n",
            "Epoch 96/100\n",
            "469/469 [==============================] - 1s 3ms/step - loss: 0.3078 - accuracy: 0.8897\n",
            "Epoch 97/100\n",
            "469/469 [==============================] - 1s 3ms/step - loss: 0.3072 - accuracy: 0.8896\n",
            "Epoch 98/100\n",
            "469/469 [==============================] - 1s 3ms/step - loss: 0.3067 - accuracy: 0.8904\n",
            "Epoch 99/100\n",
            "469/469 [==============================] - 1s 3ms/step - loss: 0.3061 - accuracy: 0.8906\n",
            "Epoch 100/100\n",
            "469/469 [==============================] - 1s 3ms/step - loss: 0.3053 - accuracy: 0.8912\n"
          ]
        },
        {
          "output_type": "execute_result",
          "data": {
            "text/plain": [
              "<keras.callbacks.History at 0x7fdaf9699490>"
            ]
          },
          "metadata": {},
          "execution_count": 7
        }
      ],
      "source": [
        "import os\n",
        "\n",
        "#https://stackoverflow.com/questions/53014306/error-15-initializing-libiomp5-dylib-but-found-libiomp5-dylib-already-initial\n",
        "# os.environ['KMP_DUPLICATE_LIB_OK']='True' \n",
        "\n",
        "# TODO: Compile and fit your model\n",
        "model = my_model(X_train_norm.shape[1])\n",
        "\n",
        "model.compile(optimizer='adam', loss='categorical_crossentropy', metrics=['accuracy'])\n",
        "\n",
        "model.fit(X_train_norm, y_train_cat, epochs=100, batch_size=128)"
      ]
    },
    {
      "cell_type": "markdown",
      "metadata": {
        "id": "JXovZOAnGqfP"
      },
      "source": [
        "Once your model has been trained, compute the accuracy (and other metrics if you want) on the train and test dataset.\n",
        "\n",
        "Be careful, Keras returns softmax output (so an array of 10 values between 0 and 1, for which the sum is equal to 1). To compute correctly the accuracy, you have to convert that array into a categorical array with zeros and a 1."
      ]
    },
    {
      "cell_type": "code",
      "execution_count": 8,
      "metadata": {
        "colab": {
          "base_uri": "https://localhost:8080/"
        },
        "id": "Yw-F-p52GqfP",
        "outputId": "bddb93ee-93ca-47e0-d5a3-53ee8d039bf0"
      },
      "outputs": [
        {
          "output_type": "stream",
          "name": "stdout",
          "text": [
            "accuracy on train with NN: 0.8927000164985657\n",
            "accuracy on test with NN: 0.8501999974250793\n"
          ]
        }
      ],
      "source": [
        "# TODO: Compute the accuracy of your model\n",
        "print('accuracy on train with NN:', model.evaluate(X_train_norm, y_train_cat, verbose=0)[1])\n",
        "print('accuracy on test with NN:', model.evaluate(X_test_norm, y_test_cat, verbose=0)[1])"
      ]
    },
    {
      "cell_type": "markdown",
      "metadata": {
        "id": "GweVq1K9GqfQ"
      },
      "source": [
        "What do you think of those results? Can you improve it by changing the number of layers? Of units per layer? The number of epochs? The activation functions?\n",
        "\n",
        "You should try!"
      ]
    },
    {
      "cell_type": "markdown",
      "metadata": {
        "id": "2CnNC06XGqfQ"
      },
      "source": [
        "---"
      ]
    },
    {
      "cell_type": "markdown",
      "metadata": {
        "id": "8qadWLQeGqfQ"
      },
      "source": [
        "In order to compare your results with more traditional machine learning methods, you will do this work with another method: a PCA followed by a classification model (of your choice). Of course, you can perform hyperparameter optimization using a gridsearch on that model!\n",
        "\n",
        "Fit your model and display the performances."
      ]
    },
    {
      "cell_type": "code",
      "execution_count": 9,
      "metadata": {
        "id": "gJSTYNDRGqfQ"
      },
      "outputs": [],
      "source": [
        "# TODO: Redo the classification with PCA and classification model\n",
        "from sklearn.decomposition import PCA\n",
        "\n",
        "pca = PCA(n_components = 0.9)\n",
        "\n",
        "pca.fit(X_train_norm)\n",
        "X_train_pca = pca.transform(X_train_norm)\n",
        "X_test_pca = pca.transform(X_test_norm)"
      ]
    },
    {
      "cell_type": "code",
      "execution_count": 10,
      "metadata": {
        "colab": {
          "base_uri": "https://localhost:8080/"
        },
        "id": "ttCkClYwGqfR",
        "outputId": "d4018f59-6d9d-4b2a-97c2-01b4fb87ef21"
      },
      "outputs": [
        {
          "output_type": "stream",
          "name": "stdout",
          "text": [
            "score with RF on train 1.0\n",
            "score with RF on train 0.8614\n"
          ]
        }
      ],
      "source": [
        "# TODO: use any classifier you want\n",
        "from sklearn.ensemble import RandomForestClassifier\n",
        "\n",
        "rf = RandomForestClassifier()\n",
        "\n",
        "rf.fit(X_train_pca, y_train)\n",
        "\n",
        "print('score with RF on train', rf.score(X_train_pca, y_train))\n",
        "print('score with RF on train', rf.score(X_test_pca, y_test))"
      ]
    },
    {
      "cell_type": "markdown",
      "metadata": {
        "id": "CQ2d5uzSGqfR"
      },
      "source": [
        "Are the performances different? Can you explain why?"
      ]
    },
    {
      "cell_type": "markdown",
      "metadata": {
        "id": "fPXJ3K6wGqfR"
      },
      "source": [
        "If you still have time, you could try to use scikit-learn's `Pipeline` to perform the hyperparameter optimization jointly on the PCA and the classification model. This might improve your performances."
      ]
    }
  ],
  "metadata": {
    "kernelspec": {
      "display_name": "Python 3",
      "language": "python",
      "name": "python3"
    },
    "language_info": {
      "codemirror_mode": {
        "name": "ipython",
        "version": 3
      },
      "file_extension": ".py",
      "mimetype": "text/x-python",
      "name": "python",
      "nbconvert_exporter": "python",
      "pygments_lexer": "ipython3",
      "version": "3.7.4"
    },
    "toc": {
      "base_numbering": 1,
      "nav_menu": {},
      "number_sections": true,
      "sideBar": true,
      "skip_h1_title": false,
      "title_cell": "Table of Contents",
      "title_sidebar": "Contents",
      "toc_cell": false,
      "toc_position": {},
      "toc_section_display": true,
      "toc_window_display": false
    },
    "colab": {
      "name": "Fashion.ipynb",
      "provenance": [],
      "include_colab_link": true
    }
  },
  "nbformat": 4,
  "nbformat_minor": 0
}