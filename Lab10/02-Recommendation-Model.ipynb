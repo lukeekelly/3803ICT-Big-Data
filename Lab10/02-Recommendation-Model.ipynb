{
 "cells": [
  {
   "cell_type": "markdown",
   "metadata": {},
   "source": [
    "# Recommendation - Model 🍿"
   ]
  },
  {
   "cell_type": "markdown",
   "metadata": {},
   "source": [
    "---"
   ]
  },
  {
   "cell_type": "markdown",
   "metadata": {},
   "source": [
    "<img src=\"https://visithrastnik.si/uploads/tic/public/generic_list_item/6-kulturna_prireditev_v_avli_kulturnega_centra_zagorje_ob_savi.jpg\" />"
   ]
  },
  {
   "cell_type": "markdown",
   "metadata": {},
   "source": [
    "---"
   ]
  },
  {
   "cell_type": "markdown",
   "metadata": {},
   "source": [
    "Now, time for the exciting part! We will train a Machine Learning model based on our previous **ratings** sparse matrix, so that it creates a recommendation engine automatically! "
   ]
  },
  {
   "cell_type": "markdown",
   "metadata": {},
   "source": [
    "First, load again the dataframe `movies` and `ratings`"
   ]
  },
  {
   "cell_type": "code",
   "execution_count": 7,
   "metadata": {},
   "outputs": [
    {
     "name": "stdout",
     "output_type": "stream",
     "text": [
      "   movieId                               title  \\\n",
      "0        1                    Toy Story (1995)   \n",
      "1        2                      Jumanji (1995)   \n",
      "2        3             Grumpier Old Men (1995)   \n",
      "3        4            Waiting to Exhale (1995)   \n",
      "4        5  Father of the Bride Part II (1995)   \n",
      "\n",
      "                                        genres  \n",
      "0  Adventure|Animation|Children|Comedy|Fantasy  \n",
      "1                   Adventure|Children|Fantasy  \n",
      "2                               Comedy|Romance  \n",
      "3                         Comedy|Drama|Romance  \n",
      "4                                       Comedy  \n",
      "   userId  movieId  rating  timestamp\n",
      "0       1        1     4.0  964982703\n",
      "1       1        3     4.0  964981247\n",
      "2       1        6     4.0  964982224\n",
      "3       1       47     5.0  964983815\n",
      "4       1       50     5.0  964982931\n"
     ]
    }
   ],
   "source": [
    "### TODO: load the movies and ratings datasets\n",
    "import pandas as pd\n",
    "movies = pd.read_csv(\"ml-latest-small/movies.csv\")\n",
    "ratings = pd.read_csv(\"ml-latest-small/ratings.csv\")\n",
    "\n",
    "print(movies.head())\n",
    "print(ratings.head())"
   ]
  },
  {
   "cell_type": "markdown",
   "metadata": {},
   "source": [
    "**Q1**. Start by loading all the pickle you saved during last challenge: `ratings_matrix`, `idx_to_mid`, `mid_to_idx`, `uid_to_idx`, `idx_to_uid`"
   ]
  },
  {
   "cell_type": "code",
   "execution_count": 9,
   "metadata": {},
   "outputs": [],
   "source": [
    "import pickle\n",
    "\n",
    "ratings_matrix = pickle.load(open(\"data/ratings_matrix.pkl\", \"rb\"))\n",
    "idx_to_mid = pickle.load(open(\"data/idx_to_mid.pkl\", \"rb\"))\n",
    "mid_to_idx = pickle.load(open(\"data/mid_to_idx.pkl\", \"rb\"))\n",
    "uid_to_idx = pickle.load(open(\"data/uid_to_idx.pkl\", \"rb\"))\n",
    "idx_to_uid = pickle.load(open(\"data/idx_to_uid.pkl\", \"rb\"))"
   ]
  },
  {
   "cell_type": "markdown",
   "metadata": {},
   "source": [
    "**Q2**. Because the dataset is slightly different from what we have been used to (X as features, y as target), the usual `train_test_split` method from scikit-learn does not apply.\n",
    "\n",
    "Hopefully, `lightfm` comes with a `random_train_test_split` located into `cross_validation` dedicated to this usecase 🙂\n",
    "\n",
    "Split the data randomly into a `train` matrix and a `test` matrix with 20% of interactions into the test set."
   ]
  },
  {
   "cell_type": "code",
   "execution_count": 10,
   "metadata": {},
   "outputs": [],
   "source": [
    "import numpy as np\n",
    "from lightfm.cross_validation import random_train_test_split\n",
    "\n",
    "train, test = random_train_test_split(ratings_matrix, test_percentage=0.2, random_state= np.random.RandomState(0))"
   ]
  },
  {
   "cell_type": "markdown",
   "metadata": {},
   "source": [
    "**Q3**. Train a LightFM model for 10 epochs. You can use the parameter `loss=\"warp\"`."
   ]
  },
  {
   "cell_type": "code",
   "execution_count": 11,
   "metadata": {
    "scrolled": true
   },
   "outputs": [
    {
     "name": "stderr",
     "output_type": "stream",
     "text": [
      "Epoch: 100%|███████████████████████████████████████████████████████████████████████████| 10/10 [00:10<00:00,  1.05s/it]\n"
     ]
    },
    {
     "data": {
      "text/plain": [
       "<lightfm.lightfm.LightFM at 0x1ce2445fa90>"
      ]
     },
     "execution_count": 11,
     "metadata": {},
     "output_type": "execute_result"
    }
   ],
   "source": [
    "from lightfm import LightFM\n",
    "\n",
    "model = LightFM(no_components=100, loss=\"warp\", random_state=0)\n",
    "\n",
    "model.fit(train, epochs=10, verbose=True)"
   ]
  },
  {
   "cell_type": "markdown",
   "metadata": {},
   "source": [
    "**Q4**. Evaluate your model on your test set. You can use the `precision_at_k` metric implemented in the LightFM library."
   ]
  },
  {
   "cell_type": "code",
   "execution_count": 14,
   "metadata": {},
   "outputs": [
    {
     "name": "stdout",
     "output_type": "stream",
     "text": [
      "Precision at k:  5 is 0.29261085\n"
     ]
    }
   ],
   "source": [
    "from lightfm.evaluation import precision_at_k\n",
    "\n",
    "k = 5\n",
    "precision_k = precision_at_k(model, test, train, k=k).mean()\n",
    "\n",
    "print(\"Precision at k: \", k, \"is\", precision_k)"
   ]
  },
  {
   "cell_type": "markdown",
   "metadata": {},
   "source": [
    "**Q5**. What does the attribute `item_embeddings` of `model` contains?  This will be the heart of your recommendation engine! 💟 So make sure you understand fully what it contains."
   ]
  },
  {
   "cell_type": "code",
   "execution_count": 15,
   "metadata": {},
   "outputs": [
    {
     "name": "stdout",
     "output_type": "stream",
     "text": [
      "(3650, 100)\n"
     ]
    }
   ],
   "source": [
    "print(model.item_embeddings.shape)"
   ]
  },
  {
   "cell_type": "markdown",
   "metadata": {},
   "source": [
    "**Q6**. We just trained a model that factorized our ratings matrix into a U matrix of shape (n_users, no_components) : `model.user_embeddings` ; and V matrix of shape (n_movies, no_components) : `model.item_embeddings`).\n",
    "\n",
    "Now we want to compute **similarity between each pair of movies**.\n",
    "\n",
    "> 🔦 **Hint**: For the similarity distance we can either use `cosine_similarity` function or `pearson_similarity`:\n",
    "> - **Cosine similarity** between two vectors, or matrices X and Y is given by:\n",
    "> ``` python\n",
    "> from sklearn.metrics.pairwise import cosine_similarity\n",
    "> cosine_similarity(X, Y)\n",
    "> ```\n",
    "> - **Pearson similarity** between two vectors, or matrices X and Y is given by:\n",
    "> ``` python\n",
    "> import numpy as np\n",
    "> np.corrcoef(X, Y)\n",
    "> ```\n",
    "\n",
    "Compute the `similarity_scores` of size (n_movies, n_movies), containing for each element (i, j) the similarity between movie of index i and movie of index j."
   ]
  },
  {
   "cell_type": "code",
   "execution_count": 16,
   "metadata": {},
   "outputs": [
    {
     "name": "stdout",
     "output_type": "stream",
     "text": [
      "(3650, 3650)\n"
     ]
    },
    {
     "data": {
      "text/plain": [
       "array([[ 0.9999996 ,  0.13317415,  0.24826698, ..., -0.42391142,\n",
       "         0.04463575, -0.40535694],\n",
       "       [ 0.13317415,  0.99999994,  0.12365821, ..., -0.15609299,\n",
       "        -0.31249684,  0.03511214],\n",
       "       [ 0.24826698,  0.12365821,  1.0000002 , ..., -0.28943077,\n",
       "        -0.33148968,  0.12372941],\n",
       "       ...,\n",
       "       [-0.42391142, -0.15609299, -0.28943077, ...,  0.99999994,\n",
       "         0.566355  ,  0.13436125],\n",
       "       [ 0.04463575, -0.31249684, -0.33148968, ...,  0.566355  ,\n",
       "         0.99999976, -0.29254884],\n",
       "       [-0.40535694,  0.03511214,  0.12372941, ...,  0.13436125,\n",
       "        -0.29254884,  1.0000002 ]], dtype=float32)"
      ]
     },
     "execution_count": 16,
     "metadata": {},
     "output_type": "execute_result"
    }
   ],
   "source": [
    "from sklearn.metrics.pairwise import cosine_similarity\n",
    "similarity_scores = cosine_similarity(model.item_embeddings)\n",
    "print(similarity_scores.shape)\n",
    "similarity_scores"
   ]
  },
  {
   "cell_type": "markdown",
   "metadata": {},
   "source": [
    "**Q7**. For movie of idx 20, what are the idx of the 10 most similar movies?"
   ]
  },
  {
   "cell_type": "code",
   "execution_count": 20,
   "metadata": {},
   "outputs": [
    {
     "name": "stdout",
     "output_type": "stream",
     "text": [
      "314    Forrest Gump (1994)\n",
      "Name: title, dtype: object\n",
      "510    Silence of the Lambs, The (1991)\n",
      "Name: title, dtype: object\n",
      "0    Toy Story (1995)\n",
      "Name: title, dtype: object\n",
      "277    Shawshank Redemption, The (1994)\n",
      "Name: title, dtype: object\n",
      "1284    Good Will Hunting (1997)\n",
      "Name: title, dtype: object\n",
      "506    Aladdin (1992)\n",
      "Name: title, dtype: object\n",
      "257    Pulp Fiction (1994)\n",
      "Name: title, dtype: object\n",
      "1503    Saving Private Ryan (1998)\n",
      "Name: title, dtype: object\n",
      "505    Ghost (1990)\n",
      "Name: title, dtype: object\n",
      "990    Indiana Jones and the Last Crusade (1989)\n",
      "Name: title, dtype: object\n"
     ]
    }
   ],
   "source": [
    "idx = 20\n",
    "similarity_idx = similarity_scores[idx]\n",
    "ranked_idx = np.argsort(-similarity_idx)\n",
    "ranked_mid = [idx_to_mid[x] for x in ranked_idx]\n",
    "for mid in ranked_mid[:10]:\n",
    "    print(movies[movies.movieId == mid][\"title\"])"
   ]
  },
  {
   "cell_type": "markdown",
   "metadata": {},
   "source": [
    "**Q8**. Let's now test our engine! Suppose we have an user that likes **Toy Story** 🧸 (movie_id = 1). Which movies would you recommend to that user? In other words, which movies are the most similar to the movie Toy Story \n",
    "\n",
    "> ⚠️ **Warning**: Remember that your `similarity_scores` works with `idx` and you have the `movie_id` associated to your movie.\n",
    "\n",
    "Retrieve the **top 5 recommendations**."
   ]
  },
  {
   "cell_type": "code",
   "execution_count": 21,
   "metadata": {},
   "outputs": [
    {
     "name": "stdout",
     "output_type": "stream",
     "text": [
      "0    Toy Story (1995)\n",
      "Name: title, dtype: object\n",
      "314    Forrest Gump (1994)\n",
      "Name: title, dtype: object\n",
      "224    Star Wars: Episode IV - A New Hope (1977)\n",
      "Name: title, dtype: object\n",
      "506    Aladdin (1992)\n",
      "Name: title, dtype: object\n",
      "1757    Bug's Life, A (1998)\n",
      "Name: title, dtype: object\n"
     ]
    }
   ],
   "source": [
    "idx = mid_to_idx[1]\n",
    "similarity_idx = similarity_scores[idx]\n",
    "ranked_idx = np.argsort(-similarity_idx)\n",
    "ranked_mid = [idx_to_mid[x] for x in ranked_idx]\n",
    "for mid in ranked_mid[:5]:\n",
    "    print(movies[movies.movieId == mid][\"title\"])"
   ]
  },
  {
   "cell_type": "markdown",
   "metadata": {},
   "source": [
    "As the next step is to **deploy your model**, you need now to: \n",
    "\n",
    "**Q9**. Save your `similarity_scores` into pickle format. Save also `movies` DataFrame into pickle format. Save them at the `data/netflix` directory at the root of the repository."
   ]
  },
  {
   "cell_type": "code",
   "execution_count": 22,
   "metadata": {},
   "outputs": [],
   "source": [
    "directory = \"./data\"\n",
    "pickle.dump(similarity_scores, open(directory + \"./similarity_scores.pkl\", \"wb\"))\n",
    "pickle.dump(movies, open(directory + \"./movies.pkl\", \"wb\"))"
   ]
  },
  {
   "cell_type": "markdown",
   "metadata": {},
   "source": [
    "**Q10**. Encapsulate the previous code into functions, especially you will need:\n",
    "- `get_sim_scores(mid)` function that returns the vector of the similarity scores `sims` between a movie `mid` and all the other movies\n",
    "- `get_ranked_recos(sims)` that returns for a vector of similarity scores `sims` the list of all ranked recommendations (n_movies) (from most recommended to least recommended) - in the format list of (mid, score, name) tuple."
   ]
  },
  {
   "cell_type": "code",
   "execution_count": 31,
   "metadata": {},
   "outputs": [],
   "source": [
    "def get_movie_name(mid, movies):\n",
    "    try:\n",
    "        name = movies.loc[movies.movieId == mid].title.values[0]\n",
    "    except:\n",
    "        name = \"Unkown\"\n",
    "    return name\n",
    "        \n",
    "def get_sim_scores(mid):\n",
    "    idx = mid_to_idx[mid]\n",
    "    sims = similarity_scores[idx]\n",
    "    return sims\n",
    "\n",
    "def get_ranked_recos(sims, movies):\n",
    "    recos = []\n",
    "    for idx in np.argsort(-sims):\n",
    "        mid = idx_to_mid[idx]\n",
    "        name = get_movie_name(mid, movies)\n",
    "        score = sims[idx]\n",
    "        recos.append((mid, score, name))\n",
    "    return recos\n",
    "\n",
    "def get_reccomendations(mid, movies, k):\n",
    "    sim_scores = get_sim_scores(mid)\n",
    "    return get_ranked_recos(sim_scores, movies)[:k]"
   ]
  },
  {
   "cell_type": "code",
   "execution_count": 32,
   "metadata": {},
   "outputs": [
    {
     "data": {
      "text/plain": [
       "[(3, 0.99999994, 'Grumpier Old Men (1995)'),\n",
       " (719, 0.6363717, 'Multiplicity (1996)'),\n",
       " (852, 0.61769557, 'Tin Cup (1996)'),\n",
       " (432, 0.604102, \"City Slickers II: The Legend of Curly's Gold (1994)\"),\n",
       " (252, 0.57901365, 'I.Q. (1994)'),\n",
       " (383, 0.5700362, 'Wyatt Earp (1994)'),\n",
       " (333, 0.5599552, 'Tommy Boy (1995)'),\n",
       " (809, 0.55615944, 'Fled (1996)'),\n",
       " (1409, 0.5532239, 'Michael (1996)'),\n",
       " (802, 0.54728496, 'Phenomenon (1996)')]"
      ]
     },
     "execution_count": 32,
     "metadata": {},
     "output_type": "execute_result"
    }
   ],
   "source": [
    "get_reccomendations(3, movies, 10)"
   ]
  },
  {
   "cell_type": "markdown",
   "metadata": {},
   "source": [
    "If you have extra time, feel free now to improve your recommendation engine!"
   ]
  }
 ],
 "metadata": {
  "kernelspec": {
   "display_name": "Python 3",
   "language": "python",
   "name": "python3"
  },
  "language_info": {
   "codemirror_mode": {
    "name": "ipython",
    "version": 3
   },
   "file_extension": ".py",
   "mimetype": "text/x-python",
   "name": "python",
   "nbconvert_exporter": "python",
   "pygments_lexer": "ipython3",
   "version": "3.8.8"
  },
  "toc": {
   "base_numbering": 1,
   "nav_menu": {},
   "number_sections": true,
   "sideBar": true,
   "skip_h1_title": false,
   "title_cell": "Table of Contents",
   "title_sidebar": "Contents",
   "toc_cell": false,
   "toc_position": {},
   "toc_section_display": true,
   "toc_window_display": false
  }
 },
 "nbformat": 4,
 "nbformat_minor": 2
}
