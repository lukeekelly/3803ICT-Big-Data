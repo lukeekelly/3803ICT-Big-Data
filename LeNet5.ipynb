{
  "cells": [
    {
      "cell_type": "markdown",
      "metadata": {
        "id": "view-in-github",
        "colab_type": "text"
      },
      "source": [
        "<a href=\"https://colab.research.google.com/github/lukeekelly/3803ICT-Big-Data/blob/main/LeNet5.ipynb\" target=\"_parent\"><img src=\"https://colab.research.google.com/assets/colab-badge.svg\" alt=\"Open In Colab\"/></a>"
      ]
    },
    {
      "cell_type": "markdown",
      "metadata": {
        "id": "EDbJWoO1yO8e"
      },
      "source": [
        "# Image Classification with CNN - LeNet5 architecture"
      ]
    },
    {
      "cell_type": "markdown",
      "metadata": {
        "id": "JzQxqD6HyO8i"
      },
      "source": [
        "In this exercise, we will apply the LeNet5 algorithm to the Fashion MNIST dataset and improve your performances."
      ]
    },
    {
      "cell_type": "markdown",
      "metadata": {
        "id": "XFyVotRvyO8j"
      },
      "source": [
        "We will first download the data:"
      ]
    },
    {
      "cell_type": "code",
      "execution_count": 1,
      "metadata": {
        "colab": {
          "base_uri": "https://localhost:8080/"
        },
        "id": "RTHLyL1fyO8j",
        "outputId": "aa375749-0b22-463d-c3f2-bdb49480ec45",
        "scrolled": true
      },
      "outputs": [
        {
          "output_type": "stream",
          "name": "stdout",
          "text": [
            "Downloading data from https://storage.googleapis.com/tensorflow/tf-keras-datasets/train-labels-idx1-ubyte.gz\n",
            "32768/29515 [=================================] - 0s 0us/step\n",
            "40960/29515 [=========================================] - 0s 0us/step\n",
            "Downloading data from https://storage.googleapis.com/tensorflow/tf-keras-datasets/train-images-idx3-ubyte.gz\n",
            "26427392/26421880 [==============================] - 0s 0us/step\n",
            "26435584/26421880 [==============================] - 0s 0us/step\n",
            "Downloading data from https://storage.googleapis.com/tensorflow/tf-keras-datasets/t10k-labels-idx1-ubyte.gz\n",
            "16384/5148 [===============================================================================================] - 0s 0us/step\n",
            "Downloading data from https://storage.googleapis.com/tensorflow/tf-keras-datasets/t10k-images-idx3-ubyte.gz\n",
            "4423680/4422102 [==============================] - 0s 0us/step\n",
            "4431872/4422102 [==============================] - 0s 0us/step\n"
          ]
        },
        {
          "output_type": "execute_result",
          "data": {
            "text/plain": [
              "(60000, 28, 28)"
            ]
          },
          "metadata": {},
          "execution_count": 1
        }
      ],
      "source": [
        "# TODO: Load the dataset\n",
        "from tensorflow.keras.datasets import fashion_mnist\n",
        "\n",
        "(X_train, y_train), (X_test, y_test) = fashion_mnist.load_data()\n",
        "\n",
        "# # # If your computer is slow, try to use a subset of data, e.g.\n",
        "# X_train = X_train[:10000]\n",
        "# y_train = y_train[:10000]\n",
        "# X_test = X_test[:2000]\n",
        "# y_test = y_test[:2000]\n",
        "X_train.shape"
      ]
    },
    {
      "cell_type": "markdown",
      "metadata": {
        "id": "c8ShXIANyO8l"
      },
      "source": [
        "As you already know, this dataset contains 10 classes:\n",
        "* 0:\tT-shirt/top\n",
        "* 1:\tTrouser\n",
        "* 2:\tPullover\n",
        "* 3:\tDress\n",
        "* 4:\tCoat\n",
        "* 5:\tSandal\n",
        "* 6:\tShirt\n",
        "* 7:\tSneaker\n",
        "* 8:\tBag\n",
        "* 9:\tAnkle boot"
      ]
    },
    {
      "cell_type": "markdown",
      "metadata": {
        "id": "_BvNG0PbyO8l"
      },
      "source": [
        "You can have a look at some images if needed, even if you already know them."
      ]
    },
    {
      "cell_type": "code",
      "execution_count": 2,
      "metadata": {
        "colab": {
          "base_uri": "https://localhost:8080/",
          "height": 281
        },
        "id": "lnjqgv-GyO8m",
        "outputId": "3da192a3-b95e-470b-d374-723d3ecbe464",
        "scrolled": true
      },
      "outputs": [
        {
          "output_type": "display_data",
          "data": {
            "text/plain": [
              "<Figure size 432x288 with 1 Axes>"
            ],
            "image/png": "[encoded data removed]"
          },
          "metadata": {
            "needs_background": "light"
          }
        }
      ],
      "source": [
        "# TODO: Explore the data, display some input images\n",
        "%matplotlib inline\n",
        "import matplotlib.pyplot as plt\n",
        "import numpy as np\n",
        "\n",
        "label_class = ['top', 'trouser', 'pullover', 'dress', 'coat', 'sandal', 'shirt', 'sneaker', 'bag', 'ankle boot']\n",
        "\n",
        "idx = np.random.randint(X_train.shape[0])\n",
        "\n",
        "plt.imshow(X_train[idx], cmap = \"gray_r\")\n",
        "plt.title(label_class[y_train[idx]])\n",
        "plt.show()"
      ]
    },
    {
      "cell_type": "markdown",
      "metadata": {
        "id": "AdYH6XW1yO8n"
      },
      "source": [
        "Make the data preparation and preprocessing: scale and reshape the data, put the labels to the good shape."
      ]
    },
    {
      "cell_type": "code",
      "execution_count": 5,
      "metadata": {
        "id": "fjv8XMPByO8o",
        "colab": {
          "base_uri": "https://localhost:8080/"
        },
        "outputId": "0bbf343e-ae8e-4f93-ed88-b9d1a0b1cfaf"
      },
      "outputs": [
        {
          "output_type": "execute_result",
          "data": {
            "text/plain": [
              "(60000, 28, 28, 1)"
            ]
          },
          "metadata": {},
          "execution_count": 5
        }
      ],
      "source": [
        "# TODO: Make the data preparation\n",
        "from tensorflow.keras.utils import to_categorical\n",
        "\n",
        "y_train_cat = to_categorical(y_train, num_classes = 10)\n",
        "y_test_cat = to_categorical(y_test, num_classes = 10)\n",
        "\n",
        "X_train_norm = X_train/255\n",
        "X_test_norm = X_test/255\n",
        "\n",
        "\n",
        "X_train_norm = X_train_norm.reshape(X_train_norm.shape[0], 28, 28, 1)\n",
        "X_test_norm = X_test_norm.reshape(X_test_norm.shape[0], 28, 28, 1)\n",
        "\n",
        "X_train_norm.shape #Should be (60000, 28, 28, 1)"
      ]
    },
    {
      "cell_type": "markdown",
      "metadata": {
        "id": "y9LKzxR9yO8o"
      },
      "source": [
        "Now build the LeNet5 architecture. You can reuse the one of the course, or try to build it by yourself.\n",
        "\n",
        "The architecture is the following:\n",
        "\n",
        "<p align=\"center\">\n",
        "<img src=\"https://drive.google.com/uc?export=view&id=1WteTU2FPIVMkBKmMxGpFm5OjsX-szTbB\">\n",
        "</p>"
      ]
    },
    {
      "cell_type": "code",
      "execution_count": 7,
      "metadata": {
        "id": "GKyMFlL6yO8o",
        "colab": {
          "base_uri": "https://localhost:8080/"
        },
        "outputId": "a011d94a-8eaf-46bb-a080-c5d93738bdfd"
      },
      "outputs": [
        {
          "output_type": "stream",
          "name": "stdout",
          "text": [
            "Model: \"sequential\"\n",
            "_________________________________________________________________\n",
            " Layer (type)                Output Shape              Param #   \n",
            "=================================================================\n",
            " C1 (Conv2D)                 (None, 26, 26, 6)         60        \n",
            "                                                                 \n",
            " S2 (MaxPooling2D)           (None, 13, 13, 6)         0         \n",
            "                                                                 \n",
            " C3 (Conv2D)                 (None, 11, 11, 16)        880       \n",
            "                                                                 \n",
            " S4 (MaxPooling2D)           (None, 5, 5, 16)          0         \n",
            "                                                                 \n",
            " flatten (Flatten)           (None, 400)               0         \n",
            "                                                                 \n",
            " C5 (Dense)                  (None, 120)               48120     \n",
            "                                                                 \n",
            " F5 (Dense)                  (None, 84)                10164     \n",
            "                                                                 \n",
            " dense (Dense)               (None, 10)                850       \n",
            "                                                                 \n",
            "=================================================================\n",
            "Total params: 60,074\n",
            "Trainable params: 60,074\n",
            "Non-trainable params: 0\n",
            "_________________________________________________________________\n"
          ]
        }
      ],
      "source": [
        "# TODO: Build your model\n",
        "from tensorflow.keras.models import Sequential\n",
        "from tensorflow.keras.layers import MaxPooling2D, Conv2D, Flatten, Dense\n",
        "\n",
        "\n",
        "def lenet5():\n",
        "    \n",
        "    model = Sequential()\n",
        "\n",
        "    # Layer C1\n",
        "    model.add(Conv2D(filters=6, name='C1', kernel_size=(3, 3), activation='relu', input_shape=(28,28,1)))\n",
        "    # Layer S2\n",
        "    model.add(MaxPooling2D(pool_size=(2, 2), name='S2'))\n",
        "    # Layer C3\n",
        "    model.add(Conv2D(filters=16, name='C3', kernel_size=(3, 3), activation='relu'))\n",
        "    # Layer S4\n",
        "    model.add(MaxPooling2D(pool_size=(2, 2), name='S4'))\n",
        "    # Before going into layer C5, we flatten our units\n",
        "    model.add(Flatten())\n",
        "    # Layer C5\n",
        "    model.add(Dense(120, activation = 'relu', name = 'C5'))\n",
        "    # Layer F6\n",
        "    model.add(Dense(84, activation = 'relu', name = 'F5'))\n",
        "    # Output layer\n",
        "    model.add(Dense(units=10, activation = 'softmax'))\n",
        "    \n",
        "    return model\n",
        "\n",
        "lenet5().summary()"
      ]
    },
    {
      "cell_type": "markdown",
      "metadata": {
        "id": "i1qBEauqyO8p"
      },
      "source": [
        "Now compile and fit your model on your training data. Since this is a multiclass classification, the loss is not `binary_crossentropy` anymore, but `categorical_crossentropy`."
      ]
    },
    {
      "cell_type": "code",
      "execution_count": 8,
      "metadata": {
        "colab": {
          "base_uri": "https://localhost:8080/"
        },
        "id": "nPL3aKnyyO8p",
        "outputId": "858f5e06-6717-4d54-87fb-1d3a80b706ab",
        "scrolled": true
      },
      "outputs": [
        {
          "output_type": "stream",
          "name": "stdout",
          "text": [
            "Epoch 1/100\n",
            "30/30 [==============================] - 12s 27ms/step - loss: 1.7769 - accuracy: 0.5050 - val_loss: 0.9903 - val_accuracy: 0.6919\n",
            "Epoch 2/100\n",
            "30/30 [==============================] - 0s 14ms/step - loss: 0.7794 - accuracy: 0.7227 - val_loss: 0.6848 - val_accuracy: 0.7453\n",
            "Epoch 3/100\n",
            "30/30 [==============================] - 0s 15ms/step - loss: 0.6193 - accuracy: 0.7654 - val_loss: 0.6087 - val_accuracy: 0.7660\n",
            "Epoch 4/100\n",
            "30/30 [==============================] - 0s 15ms/step - loss: 0.5514 - accuracy: 0.7913 - val_loss: 0.5589 - val_accuracy: 0.7922\n",
            "Epoch 5/100\n",
            "30/30 [==============================] - 0s 14ms/step - loss: 0.5146 - accuracy: 0.8076 - val_loss: 0.5349 - val_accuracy: 0.8056\n",
            "Epoch 6/100\n",
            "30/30 [==============================] - 0s 14ms/step - loss: 0.4877 - accuracy: 0.8200 - val_loss: 0.4924 - val_accuracy: 0.8216\n",
            "Epoch 7/100\n",
            "30/30 [==============================] - 0s 14ms/step - loss: 0.4669 - accuracy: 0.8303 - val_loss: 0.4807 - val_accuracy: 0.8236\n",
            "Epoch 8/100\n",
            "30/30 [==============================] - 0s 14ms/step - loss: 0.4509 - accuracy: 0.8357 - val_loss: 0.4613 - val_accuracy: 0.8348\n",
            "Epoch 9/100\n",
            "30/30 [==============================] - 0s 14ms/step - loss: 0.4308 - accuracy: 0.8454 - val_loss: 0.4482 - val_accuracy: 0.8378\n",
            "Epoch 10/100\n",
            "30/30 [==============================] - 0s 14ms/step - loss: 0.4211 - accuracy: 0.8475 - val_loss: 0.4422 - val_accuracy: 0.8399\n",
            "Epoch 11/100\n",
            "30/30 [==============================] - 0s 14ms/step - loss: 0.4108 - accuracy: 0.8518 - val_loss: 0.4377 - val_accuracy: 0.8446\n",
            "Epoch 12/100\n",
            "30/30 [==============================] - 0s 14ms/step - loss: 0.4016 - accuracy: 0.8557 - val_loss: 0.4200 - val_accuracy: 0.8513\n",
            "Epoch 13/100\n",
            "30/30 [==============================] - 0s 14ms/step - loss: 0.3922 - accuracy: 0.8592 - val_loss: 0.4099 - val_accuracy: 0.8555\n",
            "Epoch 14/100\n",
            "30/30 [==============================] - 0s 14ms/step - loss: 0.3817 - accuracy: 0.8634 - val_loss: 0.4076 - val_accuracy: 0.8532\n",
            "Epoch 15/100\n",
            "30/30 [==============================] - 0s 14ms/step - loss: 0.3759 - accuracy: 0.8645 - val_loss: 0.4031 - val_accuracy: 0.8532\n",
            "Epoch 16/100\n",
            "30/30 [==============================] - 0s 14ms/step - loss: 0.3714 - accuracy: 0.8666 - val_loss: 0.4071 - val_accuracy: 0.8501\n",
            "Epoch 17/100\n",
            "30/30 [==============================] - 0s 15ms/step - loss: 0.3678 - accuracy: 0.8677 - val_loss: 0.3871 - val_accuracy: 0.8626\n",
            "Epoch 18/100\n",
            "30/30 [==============================] - 0s 14ms/step - loss: 0.3568 - accuracy: 0.8721 - val_loss: 0.3908 - val_accuracy: 0.8563\n",
            "Epoch 19/100\n",
            "30/30 [==============================] - 0s 14ms/step - loss: 0.3519 - accuracy: 0.8738 - val_loss: 0.3788 - val_accuracy: 0.8648\n",
            "Epoch 20/100\n",
            "30/30 [==============================] - 0s 14ms/step - loss: 0.3495 - accuracy: 0.8748 - val_loss: 0.3787 - val_accuracy: 0.8662\n",
            "Epoch 21/100\n",
            "30/30 [==============================] - 0s 14ms/step - loss: 0.3431 - accuracy: 0.8775 - val_loss: 0.3821 - val_accuracy: 0.8623\n",
            "Epoch 22/100\n",
            "30/30 [==============================] - 0s 15ms/step - loss: 0.3420 - accuracy: 0.8779 - val_loss: 0.3801 - val_accuracy: 0.8628\n",
            "Epoch 23/100\n",
            "30/30 [==============================] - 0s 15ms/step - loss: 0.3346 - accuracy: 0.8807 - val_loss: 0.3669 - val_accuracy: 0.8684\n",
            "Epoch 24/100\n",
            "30/30 [==============================] - 0s 14ms/step - loss: 0.3299 - accuracy: 0.8816 - val_loss: 0.3687 - val_accuracy: 0.8678\n",
            "Epoch 25/100\n",
            "30/30 [==============================] - 0s 14ms/step - loss: 0.3287 - accuracy: 0.8822 - val_loss: 0.3604 - val_accuracy: 0.8706\n",
            "Epoch 26/100\n",
            "30/30 [==============================] - 0s 14ms/step - loss: 0.3213 - accuracy: 0.8853 - val_loss: 0.3648 - val_accuracy: 0.8683\n",
            "Epoch 27/100\n",
            "30/30 [==============================] - 0s 15ms/step - loss: 0.3193 - accuracy: 0.8855 - val_loss: 0.3534 - val_accuracy: 0.8737\n",
            "Epoch 28/100\n",
            "30/30 [==============================] - 0s 14ms/step - loss: 0.3170 - accuracy: 0.8859 - val_loss: 0.3599 - val_accuracy: 0.8705\n",
            "Epoch 29/100\n",
            "30/30 [==============================] - 0s 14ms/step - loss: 0.3136 - accuracy: 0.8878 - val_loss: 0.3520 - val_accuracy: 0.8730\n",
            "Epoch 30/100\n",
            "30/30 [==============================] - 0s 14ms/step - loss: 0.3083 - accuracy: 0.8888 - val_loss: 0.3480 - val_accuracy: 0.8741\n",
            "Epoch 31/100\n",
            "30/30 [==============================] - 0s 14ms/step - loss: 0.3097 - accuracy: 0.8884 - val_loss: 0.3525 - val_accuracy: 0.8730\n",
            "Epoch 32/100\n",
            "30/30 [==============================] - 0s 14ms/step - loss: 0.3085 - accuracy: 0.8875 - val_loss: 0.3431 - val_accuracy: 0.8753\n",
            "Epoch 33/100\n",
            "30/30 [==============================] - 0s 15ms/step - loss: 0.3015 - accuracy: 0.8907 - val_loss: 0.3457 - val_accuracy: 0.8773\n",
            "Epoch 34/100\n",
            "30/30 [==============================] - 0s 14ms/step - loss: 0.2992 - accuracy: 0.8914 - val_loss: 0.3438 - val_accuracy: 0.8764\n",
            "Epoch 35/100\n",
            "30/30 [==============================] - 0s 14ms/step - loss: 0.2962 - accuracy: 0.8929 - val_loss: 0.3444 - val_accuracy: 0.8755\n",
            "Epoch 36/100\n",
            "30/30 [==============================] - 0s 14ms/step - loss: 0.2961 - accuracy: 0.8923 - val_loss: 0.3389 - val_accuracy: 0.8774\n",
            "Epoch 37/100\n",
            "30/30 [==============================] - 0s 15ms/step - loss: 0.2893 - accuracy: 0.8957 - val_loss: 0.3319 - val_accuracy: 0.8792\n",
            "Epoch 38/100\n",
            "30/30 [==============================] - 0s 15ms/step - loss: 0.2885 - accuracy: 0.8960 - val_loss: 0.3402 - val_accuracy: 0.8757\n",
            "Epoch 39/100\n",
            "30/30 [==============================] - 0s 15ms/step - loss: 0.2849 - accuracy: 0.8967 - val_loss: 0.3359 - val_accuracy: 0.8784\n",
            "Epoch 40/100\n",
            "30/30 [==============================] - 0s 15ms/step - loss: 0.2834 - accuracy: 0.8965 - val_loss: 0.3263 - val_accuracy: 0.8816\n",
            "Epoch 41/100\n",
            "30/30 [==============================] - 0s 14ms/step - loss: 0.2827 - accuracy: 0.8967 - val_loss: 0.3302 - val_accuracy: 0.8821\n",
            "Epoch 42/100\n",
            "30/30 [==============================] - 0s 14ms/step - loss: 0.2792 - accuracy: 0.8985 - val_loss: 0.3233 - val_accuracy: 0.8842\n",
            "Epoch 43/100\n",
            "30/30 [==============================] - 0s 14ms/step - loss: 0.2777 - accuracy: 0.9002 - val_loss: 0.3294 - val_accuracy: 0.8787\n",
            "Epoch 44/100\n",
            "30/30 [==============================] - 0s 14ms/step - loss: 0.2764 - accuracy: 0.9000 - val_loss: 0.3254 - val_accuracy: 0.8818\n",
            "Epoch 45/100\n",
            "30/30 [==============================] - 0s 14ms/step - loss: 0.2748 - accuracy: 0.8999 - val_loss: 0.3334 - val_accuracy: 0.8801\n",
            "Epoch 46/100\n",
            "30/30 [==============================] - 0s 14ms/step - loss: 0.2750 - accuracy: 0.8999 - val_loss: 0.3230 - val_accuracy: 0.8838\n",
            "Epoch 47/100\n",
            "30/30 [==============================] - 0s 14ms/step - loss: 0.2713 - accuracy: 0.9010 - val_loss: 0.3321 - val_accuracy: 0.8792\n",
            "Epoch 48/100\n",
            "30/30 [==============================] - 0s 14ms/step - loss: 0.2722 - accuracy: 0.9011 - val_loss: 0.3271 - val_accuracy: 0.8816\n",
            "Epoch 49/100\n",
            "30/30 [==============================] - 0s 14ms/step - loss: 0.2657 - accuracy: 0.9033 - val_loss: 0.3225 - val_accuracy: 0.8834\n",
            "Epoch 50/100\n",
            "30/30 [==============================] - 0s 14ms/step - loss: 0.2637 - accuracy: 0.9039 - val_loss: 0.3206 - val_accuracy: 0.8833\n",
            "Epoch 51/100\n",
            "30/30 [==============================] - 0s 15ms/step - loss: 0.2632 - accuracy: 0.9040 - val_loss: 0.3142 - val_accuracy: 0.8882\n",
            "Epoch 52/100\n",
            "30/30 [==============================] - 0s 14ms/step - loss: 0.2648 - accuracy: 0.9030 - val_loss: 0.3447 - val_accuracy: 0.8793\n",
            "Epoch 53/100\n",
            "30/30 [==============================] - 0s 14ms/step - loss: 0.2635 - accuracy: 0.9039 - val_loss: 0.3205 - val_accuracy: 0.8855\n",
            "Epoch 54/100\n",
            "30/30 [==============================] - 0s 14ms/step - loss: 0.2570 - accuracy: 0.9057 - val_loss: 0.3155 - val_accuracy: 0.8876\n",
            "Epoch 55/100\n",
            "30/30 [==============================] - 0s 14ms/step - loss: 0.2567 - accuracy: 0.9058 - val_loss: 0.3152 - val_accuracy: 0.8876\n",
            "Epoch 56/100\n",
            "30/30 [==============================] - 0s 14ms/step - loss: 0.2540 - accuracy: 0.9085 - val_loss: 0.3126 - val_accuracy: 0.8867\n",
            "Epoch 57/100\n",
            "30/30 [==============================] - 0s 14ms/step - loss: 0.2517 - accuracy: 0.9078 - val_loss: 0.3149 - val_accuracy: 0.8879\n",
            "Epoch 58/100\n",
            "30/30 [==============================] - 0s 14ms/step - loss: 0.2518 - accuracy: 0.9089 - val_loss: 0.3211 - val_accuracy: 0.8825\n",
            "Epoch 59/100\n",
            "30/30 [==============================] - 0s 15ms/step - loss: 0.2552 - accuracy: 0.9055 - val_loss: 0.3104 - val_accuracy: 0.8890\n",
            "Epoch 60/100\n",
            "30/30 [==============================] - 0s 14ms/step - loss: 0.2523 - accuracy: 0.9071 - val_loss: 0.3081 - val_accuracy: 0.8901\n",
            "Epoch 61/100\n",
            "30/30 [==============================] - 0s 15ms/step - loss: 0.2471 - accuracy: 0.9098 - val_loss: 0.3114 - val_accuracy: 0.8873\n",
            "Epoch 62/100\n",
            "30/30 [==============================] - 0s 14ms/step - loss: 0.2454 - accuracy: 0.9104 - val_loss: 0.3041 - val_accuracy: 0.8908\n",
            "Epoch 63/100\n",
            "30/30 [==============================] - 0s 14ms/step - loss: 0.2425 - accuracy: 0.9116 - val_loss: 0.3081 - val_accuracy: 0.8893\n",
            "Epoch 64/100\n",
            "30/30 [==============================] - 0s 14ms/step - loss: 0.2472 - accuracy: 0.9095 - val_loss: 0.3154 - val_accuracy: 0.8870\n",
            "Epoch 65/100\n",
            "30/30 [==============================] - 0s 14ms/step - loss: 0.2471 - accuracy: 0.9087 - val_loss: 0.3102 - val_accuracy: 0.8887\n",
            "Epoch 66/100\n",
            "30/30 [==============================] - 0s 15ms/step - loss: 0.2420 - accuracy: 0.9118 - val_loss: 0.3001 - val_accuracy: 0.8929\n",
            "Epoch 67/100\n",
            "30/30 [==============================] - 0s 15ms/step - loss: 0.2388 - accuracy: 0.9131 - val_loss: 0.3048 - val_accuracy: 0.8911\n",
            "Epoch 68/100\n",
            "30/30 [==============================] - 0s 14ms/step - loss: 0.2367 - accuracy: 0.9138 - val_loss: 0.3199 - val_accuracy: 0.8844\n",
            "Epoch 69/100\n",
            "30/30 [==============================] - 0s 14ms/step - loss: 0.2421 - accuracy: 0.9106 - val_loss: 0.3009 - val_accuracy: 0.8918\n",
            "Epoch 70/100\n",
            "30/30 [==============================] - 0s 14ms/step - loss: 0.2332 - accuracy: 0.9150 - val_loss: 0.3002 - val_accuracy: 0.8926\n",
            "Epoch 71/100\n",
            "30/30 [==============================] - 0s 14ms/step - loss: 0.2369 - accuracy: 0.9133 - val_loss: 0.3073 - val_accuracy: 0.8884\n",
            "Epoch 72/100\n",
            "30/30 [==============================] - 0s 14ms/step - loss: 0.2335 - accuracy: 0.9143 - val_loss: 0.3071 - val_accuracy: 0.8894\n",
            "Epoch 73/100\n",
            "30/30 [==============================] - 0s 15ms/step - loss: 0.2316 - accuracy: 0.9153 - val_loss: 0.3000 - val_accuracy: 0.8925\n",
            "Epoch 74/100\n",
            "30/30 [==============================] - 0s 14ms/step - loss: 0.2289 - accuracy: 0.9171 - val_loss: 0.3009 - val_accuracy: 0.8919\n",
            "Epoch 75/100\n",
            "30/30 [==============================] - 0s 15ms/step - loss: 0.2276 - accuracy: 0.9167 - val_loss: 0.3060 - val_accuracy: 0.8921\n",
            "Epoch 76/100\n",
            "30/30 [==============================] - 1s 20ms/step - loss: 0.2265 - accuracy: 0.9160 - val_loss: 0.3017 - val_accuracy: 0.8901\n",
            "Epoch 77/100\n",
            "30/30 [==============================] - 0s 15ms/step - loss: 0.2283 - accuracy: 0.9165 - val_loss: 0.3066 - val_accuracy: 0.8905\n",
            "Epoch 78/100\n",
            "30/30 [==============================] - 1s 18ms/step - loss: 0.2264 - accuracy: 0.9168 - val_loss: 0.3088 - val_accuracy: 0.8910\n",
            "Epoch 79/100\n",
            "30/30 [==============================] - 0s 15ms/step - loss: 0.2295 - accuracy: 0.9161 - val_loss: 0.3087 - val_accuracy: 0.8905\n",
            "Epoch 80/100\n",
            "30/30 [==============================] - 0s 14ms/step - loss: 0.2220 - accuracy: 0.9189 - val_loss: 0.3151 - val_accuracy: 0.8865\n",
            "Epoch 81/100\n",
            "30/30 [==============================] - 0s 14ms/step - loss: 0.2274 - accuracy: 0.9154 - val_loss: 0.3010 - val_accuracy: 0.8928\n",
            "Epoch 82/100\n",
            "30/30 [==============================] - 0s 14ms/step - loss: 0.2227 - accuracy: 0.9175 - val_loss: 0.2969 - val_accuracy: 0.8951\n",
            "Epoch 83/100\n",
            "30/30 [==============================] - 0s 14ms/step - loss: 0.2183 - accuracy: 0.9198 - val_loss: 0.2941 - val_accuracy: 0.8965\n",
            "Epoch 84/100\n",
            "30/30 [==============================] - 0s 14ms/step - loss: 0.2174 - accuracy: 0.9202 - val_loss: 0.2963 - val_accuracy: 0.8941\n",
            "Epoch 85/100\n",
            "30/30 [==============================] - 0s 14ms/step - loss: 0.2149 - accuracy: 0.9212 - val_loss: 0.2929 - val_accuracy: 0.8961\n",
            "Epoch 86/100\n",
            "30/30 [==============================] - 0s 14ms/step - loss: 0.2166 - accuracy: 0.9206 - val_loss: 0.3049 - val_accuracy: 0.8911\n",
            "Epoch 87/100\n",
            "30/30 [==============================] - 0s 14ms/step - loss: 0.2154 - accuracy: 0.9209 - val_loss: 0.2986 - val_accuracy: 0.8931\n",
            "Epoch 88/100\n",
            "30/30 [==============================] - 0s 14ms/step - loss: 0.2109 - accuracy: 0.9225 - val_loss: 0.2976 - val_accuracy: 0.8943\n",
            "Epoch 89/100\n",
            "30/30 [==============================] - 0s 16ms/step - loss: 0.2141 - accuracy: 0.9214 - val_loss: 0.2962 - val_accuracy: 0.8951\n",
            "Epoch 90/100\n",
            "30/30 [==============================] - 0s 14ms/step - loss: 0.2108 - accuracy: 0.9222 - val_loss: 0.2917 - val_accuracy: 0.8973\n",
            "Epoch 91/100\n",
            "30/30 [==============================] - 0s 14ms/step - loss: 0.2094 - accuracy: 0.9229 - val_loss: 0.3047 - val_accuracy: 0.8910\n",
            "Epoch 92/100\n",
            "30/30 [==============================] - 0s 15ms/step - loss: 0.2121 - accuracy: 0.9220 - val_loss: 0.3093 - val_accuracy: 0.8906\n",
            "Epoch 93/100\n",
            "30/30 [==============================] - 0s 16ms/step - loss: 0.2122 - accuracy: 0.9216 - val_loss: 0.2958 - val_accuracy: 0.8956\n",
            "Epoch 94/100\n",
            "30/30 [==============================] - 0s 14ms/step - loss: 0.2131 - accuracy: 0.9205 - val_loss: 0.2933 - val_accuracy: 0.8978\n",
            "Epoch 95/100\n",
            "30/30 [==============================] - 0s 14ms/step - loss: 0.2069 - accuracy: 0.9239 - val_loss: 0.2941 - val_accuracy: 0.8966\n",
            "Epoch 96/100\n",
            "30/30 [==============================] - 0s 15ms/step - loss: 0.2064 - accuracy: 0.9240 - val_loss: 0.3010 - val_accuracy: 0.8938\n",
            "Epoch 97/100\n",
            "30/30 [==============================] - 0s 14ms/step - loss: 0.2066 - accuracy: 0.9244 - val_loss: 0.2930 - val_accuracy: 0.8950\n",
            "Epoch 98/100\n",
            "30/30 [==============================] - 0s 15ms/step - loss: 0.1998 - accuracy: 0.9273 - val_loss: 0.2943 - val_accuracy: 0.8964\n",
            "Epoch 99/100\n",
            "30/30 [==============================] - 0s 14ms/step - loss: 0.2001 - accuracy: 0.9270 - val_loss: 0.2961 - val_accuracy: 0.8941\n",
            "Epoch 100/100\n",
            "30/30 [==============================] - 0s 14ms/step - loss: 0.2001 - accuracy: 0.9263 - val_loss: 0.3053 - val_accuracy: 0.8914\n"
          ]
        },
        {
          "output_type": "execute_result",
          "data": {
            "text/plain": [
              "<keras.callbacks.History at 0x7f7c6004a450>"
            ]
          },
          "metadata": {},
          "execution_count": 8
        }
      ],
      "source": [
        "# TODO: Compile and fit your model\n",
        "import os\n",
        "\n",
        "# os.environ['KMP_DUPLICATE_LIB_OK']='True' #https://stackoverflow.com/questions/53014306/error-15-initializing-libiomp5-dylib-but-found-libiomp5-dylib-already-initial\n",
        "\n",
        "\n",
        "from tensorflow.keras.callbacks import EarlyStopping\n",
        "from tensorflow.keras.callbacks import TensorBoard\n",
        "\n",
        "model = lenet5()\n",
        "\n",
        "model.compile(optimizer='adam', loss='categorical_crossentropy', metrics=['accuracy'])\n",
        "\n",
        "# Define now our callbacks\n",
        "# callbacks = [EarlyStopping(monitor='val_loss', patience=10), TensorBoard(log_dir='./keras-logs', histogram_freq=0, write_graph=True, write_images=True)]\n",
        "callbacks = [EarlyStopping(monitor='val_loss', patience=10)]\n",
        "\n",
        "# Finally fit the model\n",
        "model.fit(x=X_train_norm, y=y_train_cat, validation_data=(X_test_norm, y_test_cat), epochs=100, batch_size=2048, callbacks=callbacks)"
      ]
    },
    {
      "cell_type": "markdown",
      "metadata": {
        "id": "Rf-SqjjOyO8q"
      },
      "source": [
        "Have a look at the tensorboard and see if it gives a deeper understanding of your model."
      ]
    },
    {
      "cell_type": "markdown",
      "metadata": {
        "id": "k2FTj7TSyO8q"
      },
      "source": [
        "Compute then the accuracy of your model. Is it better than a regular MLP used before?"
      ]
    },
    {
      "cell_type": "code",
      "execution_count": 9,
      "metadata": {
        "colab": {
          "base_uri": "https://localhost:8080/"
        },
        "id": "rPjJoMQZyO8q",
        "outputId": "26fbedbf-560a-44c3-f56f-842dad3fbe0d"
      },
      "outputs": [
        {
          "output_type": "stream",
          "name": "stdout",
          "text": [
            "accuracy on train with CNN: 0.92155\n",
            "accuracy on test with CNN: 0.8914\n"
          ]
        }
      ],
      "source": [
        "# TODO: Compute the accuracy of your model\n",
        "from sklearn.metrics import accuracy_score\n",
        "\n",
        "batch_size = 1024\n",
        "y_pred_train = to_categorical(model.predict(X_train_norm, batch_size = batch_size).argmax(axis=1), num_classes=10)\n",
        "y_pred_test = to_categorical(model.predict(X_test_norm, batch_size = batch_size).argmax(axis=1), num_classes=10)\n",
        "\n",
        "print('accuracy on train with CNN:', accuracy_score(y_pred_train, y_train_cat))\n",
        "print('accuracy on test with CNN:', accuracy_score(y_pred_test, y_test_cat))"
      ]
    },
    {
      "cell_type": "markdown",
      "metadata": {
        "id": "1vulsgHiyO8q"
      },
      "source": [
        "We will now add image augmentation to improve our results, especially we will try to reduce overfitting this way.\n",
        "\n",
        "To do so, you can use `ImageDataGenerator` from Keras that makes all the work for you (including rescaling), with the following parameter: \n",
        "* `horizontal_flip=True`\n",
        "\n",
        "For more info about how the `ImageDataGenerator` works, you can check out [this article](https://www.pyimagesearch.com/2019/07/08/keras-imagedatagenerator-and-data-augmentation/).\n",
        "\n",
        "Begin by creating an object `ImageDataGenerator` with this parameter."
      ]
    },
    {
      "cell_type": "code",
      "execution_count": 10,
      "metadata": {
        "ExecuteTime": {
          "end_time": "2020-08-19T11:58:37.442182Z",
          "start_time": "2020-08-19T11:58:37.438397Z"
        },
        "id": "pas-fMSIyO8q"
      },
      "outputs": [],
      "source": [
        "# TODO: Instantiate an ImageDataGenerator object\n",
        "from tensorflow.keras.preprocessing.image import ImageDataGenerator\n",
        "\n",
        "datagen = ImageDataGenerator(horizontal_flip = True)"
      ]
    },
    {
      "cell_type": "markdown",
      "metadata": {
        "id": "k7nCnu9syO8r"
      },
      "source": [
        "Finally, you can train your model using this generator, with the method `fit_generator` of your model and the method `flow` of your `ImageDataGenerator`."
      ]
    },
    {
      "cell_type": "code",
      "execution_count": 11,
      "metadata": {
        "colab": {
          "base_uri": "https://localhost:8080/"
        },
        "id": "Zt6wXa3IyO8r",
        "outputId": "5b759fc3-a8b5-4493-e066-b449b91c0299",
        "scrolled": true
      },
      "outputs": [
        {
          "output_type": "stream",
          "name": "stdout",
          "text": [
            "Epoch 1/100\n"
          ]
        },
        {
          "output_type": "stream",
          "name": "stderr",
          "text": [
            "/usr/local/lib/python3.7/dist-packages/ipykernel_launcher.py:5: UserWarning: `Model.fit_generator` is deprecated and will be removed in a future version. Please use `Model.fit`, which supports generators.\n",
            "  \"\"\"\n"
          ]
        },
        {
          "output_type": "stream",
          "name": "stdout",
          "text": [
            "58/58 [==============================] - 2s 35ms/step - loss: 0.4295 - accuracy: 0.8651 - val_loss: 0.3101 - val_accuracy: 0.8916\n",
            "Epoch 2/100\n",
            "58/58 [==============================] - 2s 33ms/step - loss: 0.2827 - accuracy: 0.8966 - val_loss: 0.3051 - val_accuracy: 0.8915\n",
            "Epoch 3/100\n",
            "58/58 [==============================] - 2s 32ms/step - loss: 0.2730 - accuracy: 0.9004 - val_loss: 0.3151 - val_accuracy: 0.8874\n",
            "Epoch 4/100\n",
            "58/58 [==============================] - 2s 32ms/step - loss: 0.2618 - accuracy: 0.9038 - val_loss: 0.2897 - val_accuracy: 0.8953\n",
            "Epoch 5/100\n",
            "58/58 [==============================] - 2s 40ms/step - loss: 0.2559 - accuracy: 0.9061 - val_loss: 0.2942 - val_accuracy: 0.8942\n",
            "Epoch 6/100\n",
            "58/58 [==============================] - 2s 35ms/step - loss: 0.2514 - accuracy: 0.9082 - val_loss: 0.2940 - val_accuracy: 0.8933\n",
            "Epoch 7/100\n",
            "58/58 [==============================] - 2s 33ms/step - loss: 0.2495 - accuracy: 0.9082 - val_loss: 0.2936 - val_accuracy: 0.8947\n",
            "Epoch 8/100\n",
            "58/58 [==============================] - 2s 43ms/step - loss: 0.2433 - accuracy: 0.9113 - val_loss: 0.2876 - val_accuracy: 0.8952\n",
            "Epoch 9/100\n",
            "58/58 [==============================] - 2s 42ms/step - loss: 0.2444 - accuracy: 0.9093 - val_loss: 0.2911 - val_accuracy: 0.8952\n",
            "Epoch 10/100\n",
            "58/58 [==============================] - 2s 33ms/step - loss: 0.2422 - accuracy: 0.9110 - val_loss: 0.2907 - val_accuracy: 0.8921\n",
            "Epoch 11/100\n",
            "58/58 [==============================] - 2s 32ms/step - loss: 0.2364 - accuracy: 0.9128 - val_loss: 0.2950 - val_accuracy: 0.8944\n",
            "Epoch 12/100\n",
            "58/58 [==============================] - 2s 33ms/step - loss: 0.2338 - accuracy: 0.9138 - val_loss: 0.2811 - val_accuracy: 0.8986\n",
            "Epoch 13/100\n",
            "58/58 [==============================] - 2s 32ms/step - loss: 0.2351 - accuracy: 0.9144 - val_loss: 0.2861 - val_accuracy: 0.8951\n",
            "Epoch 14/100\n",
            "58/58 [==============================] - 2s 39ms/step - loss: 0.2312 - accuracy: 0.9153 - val_loss: 0.2896 - val_accuracy: 0.8951\n",
            "Epoch 15/100\n",
            "58/58 [==============================] - 3s 45ms/step - loss: 0.2305 - accuracy: 0.9162 - val_loss: 0.2796 - val_accuracy: 0.8983\n",
            "Epoch 16/100\n",
            "58/58 [==============================] - 3s 45ms/step - loss: 0.2253 - accuracy: 0.9169 - val_loss: 0.2912 - val_accuracy: 0.8938\n",
            "Epoch 17/100\n",
            "58/58 [==============================] - 2s 42ms/step - loss: 0.2246 - accuracy: 0.9170 - val_loss: 0.2830 - val_accuracy: 0.8963\n",
            "Epoch 18/100\n",
            "58/58 [==============================] - 2s 42ms/step - loss: 0.2233 - accuracy: 0.9186 - val_loss: 0.2811 - val_accuracy: 0.8981\n",
            "Epoch 19/100\n",
            "58/58 [==============================] - 3s 44ms/step - loss: 0.2193 - accuracy: 0.9188 - val_loss: 0.2840 - val_accuracy: 0.8974\n",
            "Epoch 20/100\n",
            "58/58 [==============================] - 2s 32ms/step - loss: 0.2237 - accuracy: 0.9182 - val_loss: 0.2947 - val_accuracy: 0.8924\n",
            "Epoch 21/100\n",
            "58/58 [==============================] - 2s 42ms/step - loss: 0.2187 - accuracy: 0.9192 - val_loss: 0.2797 - val_accuracy: 0.8997\n",
            "Epoch 22/100\n",
            "58/58 [==============================] - 2s 32ms/step - loss: 0.2155 - accuracy: 0.9201 - val_loss: 0.2832 - val_accuracy: 0.8967\n",
            "Epoch 23/100\n",
            "58/58 [==============================] - 3s 43ms/step - loss: 0.2139 - accuracy: 0.9215 - val_loss: 0.2842 - val_accuracy: 0.8995\n",
            "Epoch 24/100\n",
            "58/58 [==============================] - 2s 42ms/step - loss: 0.2130 - accuracy: 0.9218 - val_loss: 0.2883 - val_accuracy: 0.8966\n",
            "Epoch 25/100\n",
            "58/58 [==============================] - 2s 33ms/step - loss: 0.2130 - accuracy: 0.9204 - val_loss: 0.2820 - val_accuracy: 0.8992\n"
          ]
        },
        {
          "output_type": "execute_result",
          "data": {
            "text/plain": [
              "<keras.callbacks.History at 0x7f7bd82ebc10>"
            ]
          },
          "metadata": {},
          "execution_count": 11
        }
      ],
      "source": [
        "# TODO: train your model\n",
        "batch_size = 1024\n",
        "model.fit_generator(datagen.flow(X_train_norm, y_train_cat, batch_size=batch_size),\n",
        "                    validation_data=(X_test_norm, y_test_cat), callbacks=callbacks,\n",
        "                    steps_per_epoch=len(X_train_norm) / batch_size, epochs=100)"
      ]
    },
    {
      "cell_type": "markdown",
      "metadata": {
        "id": "NuzFke8pyO8r"
      },
      "source": [
        "Recompute the accuracy of your model, does it improve your performances with data augmentation?"
      ]
    },
    {
      "cell_type": "code",
      "execution_count": 12,
      "metadata": {
        "colab": {
          "base_uri": "https://localhost:8080/"
        },
        "id": "jsTm86tuyO8r",
        "outputId": "9dc5075b-24f9-42f8-9e93-d6a4cdde3ee6"
      },
      "outputs": [
        {
          "output_type": "stream",
          "name": "stdout",
          "text": [
            "accuracy on train with CNN: 0.9299333333333333\n",
            "accuracy on test with CNN: 0.8992\n"
          ]
        }
      ],
      "source": [
        "# TODO: Compute the accuracy of your model\n",
        "from sklearn.metrics import accuracy_score\n",
        "\n",
        "batch_size=1024\n",
        "y_pred_train = to_categorical(model.predict(X_train_norm, batch_size = batch_size).argmax(axis=1), num_classes=10)\n",
        "y_pred_test = to_categorical(model.predict(X_test_norm, batch_size = batch_size).argmax(axis=1), num_classes=10)\n",
        "\n",
        "print('accuracy on train with CNN:', accuracy_score(y_pred_train, y_train_cat))\n",
        "print('accuracy on test with CNN:', accuracy_score(y_pred_test, y_test_cat))"
      ]
    },
    {
      "cell_type": "markdown",
      "metadata": {
        "id": "jOzkdGf7yO8s"
      },
      "source": [
        "You can now try to improve even more your results. For example, add more parameters to your `ImageDataGenerator`, play with some hyperparameters, and so on..."
      ]
    }
  ],
  "metadata": {
    "accelerator": "GPU",
    "colab": {
      "name": "LeNet5.ipynb",
      "provenance": [],
      "include_colab_link": true
    },
    "kernelspec": {
      "display_name": "Python 3",
      "language": "python",
      "name": "python3"
    },
    "language_info": {
      "codemirror_mode": {
        "name": "ipython",
        "version": 3
      },
      "file_extension": ".py",
      "mimetype": "text/x-python",
      "name": "python",
      "nbconvert_exporter": "python",
      "pygments_lexer": "ipython3",
      "version": "3.7.4"
    },
    "toc": {
      "base_numbering": 1,
      "nav_menu": {},
      "number_sections": true,
      "sideBar": true,
      "skip_h1_title": false,
      "title_cell": "Table of Contents",
      "title_sidebar": "Contents",
      "toc_cell": false,
      "toc_position": {},
      "toc_section_display": true,
      "toc_window_display": false
    },
    "varInspector": {
      "cols": {
        "lenName": 16,
        "lenType": 16,
        "lenVar": 40
      },
      "kernels_config": {
        "python": {
          "delete_cmd_postfix": "",
          "delete_cmd_prefix": "del ",
          "library": "var_list.py",
          "varRefreshCmd": "print(var_dic_list())"
        },
        "r": {
          "delete_cmd_postfix": ") ",
          "delete_cmd_prefix": "rm(",
          "library": "var_list.r",
          "varRefreshCmd": "cat(var_dic_list()) "
        }
      },
      "types_to_exclude": [
        "module",
        "function",
        "builtin_function_or_method",
        "instance",
        "_Feature"
      ],
      "window_display": false
    }
  },
  "nbformat": 4,
  "nbformat_minor": 0
}